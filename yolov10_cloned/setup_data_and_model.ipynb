{
 "cells": [
  {
   "cell_type": "markdown",
   "metadata": {},
   "source": [
    "# Set up enviroment, download model version of YOLOv10 and dataset"
   ]
  },
  {
   "cell_type": "markdown",
   "metadata": {},
   "source": [
    "## Download version of YOLOv10"
   ]
  },
  {
   "cell_type": "code",
   "execution_count": null,
   "metadata": {},
   "outputs": [],
   "source": [
    "#!pip install -q git+https://github.com/THU-MIG/yolov10.git\n",
    "# If we train on kaggle or google colab, we need to cloned YOLOv10 from github"
   ]
  },
  {
   "cell_type": "code",
   "execution_count": null,
   "metadata": {},
   "outputs": [],
   "source": [
    "!wget -q https://github.com/THU-MIG/yolov10/releases/download/v1.1/yolov10l.pt"
   ]
  },
  {
   "cell_type": "markdown",
   "metadata": {},
   "source": [
    "- YOLOv10 has 6 versions with successive number in Params, FLOPs, APval, and Latency. Therefore, we need to choose the most suitable version to train our dataset.\n",
    "- In our project, we chose YOLOv10-L as the preferred model. The reason for this is that YOLOv10-L has a greater number of layers and parameters compared to lighter versions like YOLOv10-N and YOLOv10-S. This allows the model to learn and detect better for small objects or objects in complex situations."
   ]
  },
  {
   "cell_type": "markdown",
   "metadata": {},
   "source": [
    "## Setup enviroment\n"
   ]
  },
  {
   "cell_type": "code",
   "execution_count": null,
   "metadata": {},
   "outputs": [],
   "source": [
    "!pip install -q supervision"
   ]
  },
  {
   "cell_type": "code",
   "execution_count": null,
   "metadata": {},
   "outputs": [],
   "source": [
    "!pip install -q ultralytics"
   ]
  },
  {
   "cell_type": "markdown",
   "metadata": {},
   "source": [
    "## Import library"
   ]
  },
  {
   "cell_type": "code",
   "execution_count": null,
   "metadata": {},
   "outputs": [],
   "source": [
    "import os\n",
    "import cv2\n",
    "import numpy as np\n",
    "from tqdm import tqdm\n",
    "import supervision as sv\n",
    "from ultralytics import YOLOv10\n",
    "from sklearn.metrics import precision_score, recall_score\n",
    "from IPython.display import Image, Video\n",
    "import os\n",
    "\n",
    "!wandb disabled"
   ]
  },
  {
   "cell_type": "markdown",
   "metadata": {},
   "source": [
    "## Create discription file (data.yaml) for the custom dataset"
   ]
  },
  {
   "cell_type": "code",
   "execution_count": null,
   "metadata": {},
   "outputs": [],
   "source": [
    "train_path = os.path.join(os.getcwd(), 'VehiclesDetectionDataset', 'train', 'images')\n",
    "val_path = os.path.join(os.getcwd(), 'VehiclesDetectionDataset', 'valid', 'images')\n",
    "test_path = os.path.join(os.getcwd(), 'VehiclesDetectionDataset', 'test', 'images')\n",
    "\n",
    "yaml_content = f\"\"\"\n",
    "test: {test_path}\n",
    "train: {train_path}\n",
    "val: {val_path}\n",
    "\n",
    "nc: 5  # Number of classes\n",
    "names: ['Ambulance', 'Bus', 'Car', 'Motorcycle', 'Truck']\n",
    "\"\"\"\n",
    "\n",
    "output_path = 'data.yaml'\n",
    "with open(output_path, 'w') as file:\n",
    "    file.write(yaml_content)\n",
    "\n",
    "print(f\"YAML file has been saved to {output_path}\")"
   ]
  },
  {
   "cell_type": "markdown",
   "metadata": {},
   "source": [
    "## Train models"
   ]
  },
  {
   "cell_type": "code",
   "execution_count": null,
   "metadata": {},
   "outputs": [],
   "source": [
    "!yolo task=detect mode=train epochs=100 batch=16 plots=True model=yolov10l.pt data=data.yaml"
   ]
  },
  {
   "cell_type": "markdown",
   "metadata": {},
   "source": [
    "In this section, we have trained our model with fine-tuned parameters to achieve the best performance on our dataset. This is the last section on preparation for training YOLOv10 model."
   ]
  },
  {
   "cell_type": "markdown",
   "metadata": {},
   "source": []
  }
 ],
 "metadata": {
  "kernelspec": {
   "display_name": "Python 3",
   "language": "python",
   "name": "python3"
  },
  "language_info": {
   "codemirror_mode": {
    "name": "ipython",
    "version": 3
   },
   "file_extension": ".py",
   "mimetype": "text/x-python",
   "name": "python",
   "nbconvert_exporter": "python",
   "pygments_lexer": "ipython3",
   "version": "3.10.12"
  }
 },
 "nbformat": 4,
 "nbformat_minor": 2
}
